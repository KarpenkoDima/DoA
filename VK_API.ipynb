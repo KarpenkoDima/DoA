{
  "nbformat": 4,
  "nbformat_minor": 0,
  "metadata": {
    "colab": {
      "name": "Untitled0.ipynb",
      "provenance": [],
      "include_colab_link": true
    },
    "kernelspec": {
      "name": "python3",
      "display_name": "Python 3"
    }
  },
  "cells": [
    {
      "cell_type": "markdown",
      "metadata": {
        "id": "view-in-github",
        "colab_type": "text"
      },
      "source": [
        "<a href=\"https://colab.research.google.com/github/KarpenkoDima/DoA/blob/master/VK_API.ipynb\" target=\"_parent\"><img src=\"https://colab.research.google.com/assets/colab-badge.svg\" alt=\"Open In Colab\"/></a>"
      ]
    },
    {
      "cell_type": "code",
      "metadata": {
        "id": "dXXHrUWESG6p",
        "colab_type": "code",
        "outputId": "b71e1f21-5eff-41e9-f984-f46760135f17",
        "colab": {
          "base_uri": "https://localhost:8080/",
          "height": 35
        }
      },
      "source": [
        "import requests\n",
        "str='9.10'\n",
        "print(len(str.split('.')))\n"
      ],
      "execution_count": 17,
      "outputs": [
        {
          "output_type": "stream",
          "text": [
            "2\n"
          ],
          "name": "stdout"
        }
      ]
    },
    {
      "cell_type": "code",
      "metadata": {
        "colab_type": "code",
        "outputId": "eb74b82e-0f46-460b-e033-b49df04d20d4",
        "id": "lJIHgjsy_9yg",
        "colab": {
          "base_uri": "https://localhost:8080/",
          "height": 74
        }
      },
      "source": [
        "import requests\n",
        "import datetime\n",
        "\n",
        "year=datetime.datetime.now().year\n",
        "ACCESS_TOKEN = '17da724517da724517da72458517b8abce117da17da72454d235c274f1a2be5f45ee711'\n",
        "user_id='echerkasova1990'\n",
        "get_id = 'https://vk.com/dev/users.get'\n",
        "friends_get=\"https://api.vk.com/method/users.get?v=5.71&access_token={token}&user_ids={id}\".format(token=ACCESS_TOKEN, id=user_id)\n",
        "\n",
        "r=requests.get(friends_get)\n",
        "print(r.json())\n",
        "json = r.json()\n",
        "id = json['response'][0]['id']\n",
        "get_id = \"https://api.vk.com/method/friends.get?v=5.71&access_token={token}&user_id={user_id}&fields=bdate\".format(token=ACCESS_TOKEN, user_id=id)\n",
        "r=requests.get(get_id)\n",
        "\n",
        "friends = {}\n",
        "json = r.json()\n",
        "for x in json['response']['items']:\n",
        "  if 'bdate' in x:\n",
        "    bdate= x['bdate'].split('.')\n",
        "    if len(bdate)==3:\n",
        "      key = int(bdate[2])\n",
        "      if key in friends:\n",
        "        friends[key] +=1\n",
        "      else: friends[key] =1\n",
        "\n",
        "\n",
        "age_friendscount_list = list(friends.items())\n",
        "result = sorted(age_friendscount_list, key=lambda x: (-x[1], x[0]))\n",
        "print(result)"
      ],
      "execution_count": 32,
      "outputs": [
        {
          "output_type": "stream",
          "text": [
            "{'response': [{'id': 104554875, 'first_name': 'Ekaterina', 'last_name': 'Cherkasova'}]}\n",
            "[(1990, 27), (1989, 15), (1991, 12), (1993, 9), (1992, 6), (1988, 5), (1985, 4), (1987, 4), (1982, 3), (1984, 3), (1994, 3), (1996, 3), (1986, 2), (1995, 2), (1997, 2), (1953, 1), (1970, 1), (1972, 1), (1975, 1), (1979, 1), (1980, 1), (1983, 1), (1999, 1), (2001, 1), (2004, 1)]\n"
          ],
          "name": "stdout"
        }
      ]
    }
  ]
}